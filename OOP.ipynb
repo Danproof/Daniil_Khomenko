{
 "cells":[
  {
   "cell_type":"markdown",
   "source":[
    "## Abstract class"
   ],
   "attachments":{
    
   },
   "metadata":{
    "datalore":{
     "node_id":"VQkMd4AAAwFp6XfXUv85xw",
     "type":"MD",
     "hide_input_from_viewers":true,
     "hide_output_from_viewers":true
    }
   }
  },
  {
   "cell_type":"code",
   "source":[
    "from abc import ABC, abstractmethod\n",
    "\n",
    "\n",
    "class Weapon(ABC):\n",
    "    def __init__(self, name, manufacturer, price):\n",
    "        self._name = name\n",
    "        self._manufacturer = manufacturer\n",
    "        self._price = float(price)\n",
    "    \n",
    "    def __str__(self):\n",
    "        return f'{self._name}, {self._manufacturer}\\nPrice: {self._price:.2f}'\n",
    "    \n",
    "    @property\n",
    "    def name(self):\n",
    "        return self._name\n",
    "    \n",
    "    @name.setter\n",
    "    def name(self, name):\n",
    "        self._name = name\n",
    "\n",
    "    @property\n",
    "    def manufacturer(self):\n",
    "        return self._manufacturer\n",
    "    \n",
    "    @manufacturer.setter\n",
    "    def manufacturer(self, manufacturer):\n",
    "        self._manufacturer = manufacturer\n",
    "\n",
    "    @property\n",
    "    def price(self):\n",
    "        return self._price\n",
    "    \n",
    "    @price.setter\n",
    "    def price(self, price):\n",
    "        self._price = float(price)\n",
    "    \n",
    "    @abstractmethod\n",
    "    def how_to_kill(self):\n",
    "        '''How to kill with it'''"
   ],
   "execution_count":1,
   "outputs":[
    
   ],
   "metadata":{
    "datalore":{
     "node_id":"CauHDOmRQuvTj0qeCcVg0y",
     "type":"CODE",
     "hide_input_from_viewers":true,
     "hide_output_from_viewers":true
    }
   }
  },
  {
   "cell_type":"markdown",
   "source":[
    "## First branch of derived classes"
   ],
   "attachments":{
    
   },
   "metadata":{
    "datalore":{
     "node_id":"WBr4NKv6npmfpd3RLGxw3e",
     "type":"MD",
     "hide_input_from_viewers":true,
     "hide_output_from_viewers":true
    }
   }
  },
  {
   "cell_type":"code",
   "source":[
    "class ColdWeapon(Weapon):\n",
    "    def __init__(self, name, manufacturer, price, steel_grade):\n",
    "        super().__init__(name, manufacturer, price)\n",
    "        self._steel_grade = steel_grade\n",
    "\n",
    "    def __str__(self):\n",
    "        return f'{super().__str__()}\\nSteel grade: {self.steel_grade}'\n",
    "    \n",
    "    @property\n",
    "    def steel_grade(self):\n",
    "        return self._steel_grade\n",
    "    \n",
    "    @steel_grade.setter\n",
    "    def steel_grade(self, steel_grade):\n",
    "        self._steel_grade = steel_grade\n",
    "\n",
    "    def how_to_kill(self):\n",
    "        print('Cut your enemy')"
   ],
   "execution_count":2,
   "outputs":[
    
   ],
   "metadata":{
    "datalore":{
     "node_id":"cZdIo8SzbHdsICysYIYwZ2",
     "type":"CODE",
     "hide_input_from_viewers":true,
     "hide_output_from_viewers":true
    }
   }
  },
  {
   "cell_type":"markdown",
   "source":[
    "## Second branch of derived classes"
   ],
   "attachments":{
    
   },
   "metadata":{
    "datalore":{
     "node_id":"8Ap4gM0AOxnj2GqdwOhYNH",
     "type":"MD",
     "hide_input_from_viewers":true,
     "hide_output_from_viewers":true
    }
   }
  },
  {
   "cell_type":"code",
   "source":[
    "class Firearm(Weapon):\n",
    "    def __init__(self, name, manufacturer, price, caliber):\n",
    "        super().__init__(name, manufacturer, price)\n",
    "        self._caliber = caliber\n",
    "\n",
    "    def __str__(self):\n",
    "        return f'{super().__str__()}\\nCaliber: {self.caliber}'\n",
    "    \n",
    "    @property\n",
    "    def caliber(self):\n",
    "        return self._caliber\n",
    "    \n",
    "    @caliber.setter\n",
    "    def caliber(self, caliber):\n",
    "        self._caliber = caliber\n",
    "\n",
    "    def how_to_kill(self):\n",
    "        print('Shoot your enemy')\n",
    "\n",
    "\n",
    "class SemiAutomaticFirearm(Firearm):\n",
    "    def __init__(self, name, manufacturer, price, caliber, combat_fire_rate_semi_auto):\n",
    "        super().__init__(name, manufacturer, price, caliber)\n",
    "        self._combat_fire_rate_semi_auto = combat_fire_rate_semi_auto\n",
    "\n",
    "    @property\n",
    "    def combat_fire_rate_semi_auto(self):\n",
    "        return self._combat_fire_rate_semi_auto\n",
    "    \n",
    "    @combat_fire_rate_semi_auto.setter\n",
    "    def combat_fire_rate_semi_auto(self, combat_fire_rate_semi_auto):\n",
    "        self._combat_fire_rate_semi_auto = combat_fire_rate_semi_auto\n",
    "\n",
    "    def __str__(self):\n",
    "        return f'{super().__str__()}\\nCombat rate of fire: semi-automatic: {self.combat_fire_rate_semi_auto}'\n",
    "\n",
    "    \n",
    "class AutomaticFirearm(SemiAutomaticFirearm):\n",
    "    def __init__(self, name, manufacturer, price, caliber, combat_fire_rate_semi_auto, combat_fire_rate_auto):\n",
    "        super().__init__(name, manufacturer, price, caliber, combat_fire_rate_semi_auto)\n",
    "        self._combat_fire_rate_auto = combat_fire_rate_auto\n",
    "\n",
    "    @property\n",
    "    def combat_fire_rate_auto(self):\n",
    "        return self._combat_fire_rate_auto\n",
    "    \n",
    "    @combat_fire_rate_auto.setter\n",
    "    def combat_fire_rate_auto(self, combat_fire_rate_auto):\n",
    "        self._combat_fire_rate_semi_auto = combat_fire_rate_auto\n",
    "\n",
    "    def __str__(self):\n",
    "        return f'{super().__str__()}; automatic: {self.combat_fire_rate_auto}'"
   ],
   "execution_count":3,
   "outputs":[
    
   ],
   "metadata":{
    "datalore":{
     "node_id":"0t7YRosd8gg7NPjpLCiP5n",
     "type":"CODE",
     "hide_input_from_viewers":true,
     "hide_output_from_viewers":true
    }
   }
  },
  {
   "cell_type":"code",
   "source":[
    "katana = ColdWeapon('Katana', 'Cold Steel', 1000, '1095 Carbon')\n",
    "print(katana)\n",
    "katana.how_to_kill()\n",
    "print()\n",
    "\n",
    "AR15 = SemiAutomaticFirearm('AK-15', 'VOODOO', 2000, '5.56x45', 45)\n",
    "print(AR15)\n",
    "AR15.how_to_kill()\n",
    "print()\n",
    "\n",
    "AK47 = AutomaticFirearm('AK-47', 'Kalashnikov Concern', 1500, '7.62x39', 40, 100)\n",
    "print(AK47)"
   ],
   "execution_count":4,
   "outputs":[
    {
     "name":"stdout",
     "text":[
      "Katana, Cold Steel\n",
      "Price: 1000.00\n",
      "Steel grade: 1095 Carbon\n",
      "Cut your enemy\n",
      "\n",
      "AK-15, VOODOO\n",
      "Price: 2000.00\n",
      "Caliber: 5.56x45\n",
      "Combat rate of fire: semi-automatic: 45\n",
      "Shoot your enemy\n",
      "\n",
      "AK-47, Kalashnikov Concern\n",
      "Price: 1500.00\n",
      "Caliber: 7.62x39\n",
      "Combat rate of fire: semi-automatic: 40; automatic: 100\n"
     ],
     "output_type":"stream"
    }
   ],
   "metadata":{
    "datalore":{
     "node_id":"aUUau8Kuoiz9lCmVlaUVsa",
     "type":"CODE",
     "hide_input_from_viewers":true,
     "hide_output_from_viewers":true
    }
   }
  }
 ],
 "metadata":{
  "kernelspec":{
   "display_name":"Python",
   "language":"python",
   "name":"python"
  },
  "datalore":{
   "computation_mode":"REACTIVE",
   "package_manager":"pip",
   "base_environment":"default",
   "packages":[
    
   ],
   "report_row_ids":[
    
   ],
   "version":2
  }
 },
 "nbformat":4,
 "nbformat_minor":4
}