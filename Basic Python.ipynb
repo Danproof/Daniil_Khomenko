{
 "cells":[
  {
   "cell_type":"markdown",
   "source":[
    "# Main tasks"
   ],
   "attachments":{
    
   },
   "metadata":{
    "datalore":{
     "node_id":"rIr7OQvMM1NNHmeQ5rZSkc",
     "type":"MD",
     "hide_input_from_viewers":false,
     "hide_output_from_viewers":false,
     "report_properties":{
      "y":0
     }
    }
   }
  },
  {
   "cell_type":"markdown",
   "source":[
    "## Task 1\n",
    "**In this task you will create a function that takes a list of non-negative integers and strings and returns a new\n",
    "list with the strings filtered out.**"
   ],
   "attachments":{
    
   },
   "metadata":{
    "datalore":{
     "node_id":"MHEXStQA93bmZgDm5T7Irc",
     "type":"MD",
     "hide_input_from_viewers":false,
     "hide_output_from_viewers":false,
     "report_properties":{
      "y":4
     }
    }
   }
  },
  {
   "cell_type":"code",
   "source":[
    "def filter_list(l: list) -> list:\n",
    "    return [x for x in l if isinstance(x, int)]\n",
    "\n",
    "\n",
    "print(filter_list([1,2,'a','b']))\n",
    "print(filter_list([1,'a','b',0,15])) \n",
    "print(filter_list([1,2,'aasf','1','123',123]))\n"
   ],
   "execution_count":3,
   "outputs":[
    {
     "name":"stdout",
     "text":[
      "[1, 2]\n",
      "[1, 0, 15]\n",
      "[1, 2, 123]\n"
     ],
     "output_type":"stream"
    }
   ],
   "metadata":{
    "datalore":{
     "node_id":"yt6ftiz3rLn51vF05l9OJL",
     "type":"CODE",
     "hide_input_from_viewers":false,
     "hide_output_from_viewers":false,
     "report_properties":{
      "y":9
     }
    }
   }
  },
  {
   "cell_type":"markdown",
   "source":[
    "## Task 2\n",
    "**Write a function named 'first_non_repeating_letter' that takes a string input, and returns the first character that is not repeated anywhere in the string.\n",
    "For example, if given the input 'stress', the function should return 't', since the letter t only occurs once in the string, and occurs first in the string.\n",
    "As an added challenge, upper- and lowercase letters are considered the same character, but the function should return the correct case for the initial letter. For example, the input 'sTreSS' should return 'T'.\n",
    "If a string contains all repeating characters, it should return an empty string (\"\") or None -- see sample tests.**"
   ],
   "attachments":{
    
   },
   "metadata":{
    "datalore":{
     "node_id":"Of3Ql3Id2kwBKjNfGkyppM",
     "type":"MD",
     "hide_input_from_viewers":false,
     "hide_output_from_viewers":false,
     "report_properties":{
      "y":17
     }
    }
   }
  },
  {
   "cell_type":"code",
   "source":[
    "from typing import Union\n",
    "\n",
    "\n",
    "def first_non_repeating_letter(string: str) -> Union[str, None]:\n",
    "    letters_count = {}\n",
    "    for letter in string.lower():\n",
    "        if letter not in letters_count: \n",
    "            letters_count[letter] = 1\n",
    "        else:\n",
    "            letters_count[letter] += 1\n",
    "    for letter in string:\n",
    "        if letters_count[letter.lower()] == 1:\n",
    "            return letter\n",
    "\n",
    "first_non_repeating_letter('sTreSS')"
   ],
   "execution_count":57,
   "outputs":[
    {
     "data":{
      "text\/plain":[
       "'T'"
      ]
     },
     "metadata":{
      
     },
     "output_type":"display_data"
    }
   ],
   "metadata":{
    "datalore":{
     "node_id":"6sTnm77SxokCDQ4tYLOiIt",
     "type":"CODE",
     "hide_input_from_viewers":false,
     "hide_output_from_viewers":false,
     "report_properties":{
      "y":24
     }
    }
   }
  },
  {
   "cell_type":"markdown",
   "source":[
    "## Task3\n",
    "**Digital root is the recursive sum of all the digits in a number.\n",
    "Given n, take the sum of the digits of n. If that value has more than one digit, continue\n",
    "reducing in this way until a single-digit number is produced. The input will be a non-\n",
    "negative integer.**"
   ],
   "attachments":{
    
   },
   "metadata":{
    "datalore":{
     "node_id":"AQNDE9DUmFOJPRU2mG9hMT",
     "type":"MD",
     "hide_input_from_viewers":false,
     "hide_output_from_viewers":false,
     "report_properties":{
      "y":34
     }
    }
   }
  },
  {
   "cell_type":"code",
   "source":[
    "def digital_root(n: int) -> int:\n",
    "    print(n)\n",
    "    if n > 10:\n",
    "        numbers = list(str(n))\n",
    "        print(' + '.join(numbers))\n",
    "        n = sum([int(i) for i in numbers])\n",
    "        return digital_root(n)\n",
    "\n",
    "\n",
    "\n",
    "\n",
    "digital_root(16)\n",
    "print()\n",
    "digital_root(942)\n",
    "print()\n",
    "digital_root(132189)\n",
    "print()\n",
    "digital_root(493193)"
   ],
   "execution_count":98,
   "outputs":[
    {
     "name":"stdout",
     "text":[
      "16\n",
      "1 + 6\n",
      "7\n",
      "\n",
      "942\n",
      "9 + 4 + 2\n",
      "15\n",
      "1 + 5\n",
      "6\n",
      "\n",
      "132189\n",
      "1 + 3 + 2 + 1 + 8 + 9\n",
      "24\n",
      "2 + 4\n",
      "6\n",
      "\n",
      "493193\n",
      "4 + 9 + 3 + 1 + 9 + 3\n",
      "29\n",
      "2 + 9\n",
      "11\n",
      "1 + 1\n",
      "2\n"
     ],
     "output_type":"stream"
    }
   ],
   "metadata":{
    "datalore":{
     "node_id":"SUjUzm4b3U3zaUVDlGiOu0",
     "type":"CODE",
     "hide_input_from_viewers":false,
     "hide_output_from_viewers":false,
     "report_properties":{
      "y":40
     }
    }
   }
  },
  {
   "cell_type":"markdown",
   "source":[
    "## Task 4\n",
    "**Count the number of pairs in the array, the sum of which will give target**"
   ],
   "attachments":{
    
   },
   "metadata":{
    "datalore":{
     "node_id":"bjcZxlwzQcd3qhbKB9vMGY",
     "type":"MD",
     "hide_input_from_viewers":false,
     "hide_output_from_viewers":false,
     "report_properties":{
      "y":60
     }
    }
   }
  },
  {
   "cell_type":"code",
   "source":[
    "import numpy as np\n",
    "\n",
    "\n",
    "def count_pairs_with_sum(arr, target):\n",
    "    arr = np.array(arr)\n",
    "    # get all combinations of indices for distinct pairs\n",
    "    i, j = np.triu_indices(len(arr), k=1)\n",
    "\n",
    "    # compute the sum of each pair of distinct elements\n",
    "    pair_sums = arr[i] + arr[j]\n",
    "\n",
    "    return np.count_nonzero(pair_sums == target)\n",
    "\n",
    "\n",
    "arr = [1, 3, 6, 2, 2, 0, 4, 5] \n",
    "target = 5\n",
    "count_pairs_with_sum(arr, target)"
   ],
   "execution_count":122,
   "outputs":[
    {
     "data":{
      "text\/plain":[
       "4"
      ]
     },
     "metadata":{
      
     },
     "output_type":"display_data"
    }
   ],
   "metadata":{
    "datalore":{
     "node_id":"BvGMcyTZ1PY71t2RsCiGZu",
     "type":"CODE",
     "hide_input_from_viewers":false,
     "hide_output_from_viewers":false,
     "report_properties":{
      "y":64
     }
    }
   }
  },
  {
   "cell_type":"markdown",
   "source":[
    "## Task 5\n",
    "**Den has invited some friends. His list is:**\n",
    "\n",
    "**s = \"Fired:Corwill;Wilfred:Corwill;Barney:TornBull;Betty:Tornbull;Bjon:Tornbull;Raphael:Corwill;Alfred:Corwill\";**\n",
    "\n",
    "**Could you make a program that**\n",
    "\n",
    "- **makes this string uppercase**\n",
    "- **gives it sorted in alphabetical order by last name.**\n",
    "  \n",
    "**When the last names are the same, sort them by first name. Last name and first name of a guest come in the result between parentheses separated by a comma.\n",
    "So the result of function meeting(s) will be:**\n",
    "\n",
    "**Examples:**\n",
    "\n",
    "**\"(CORWILL, ALFRED)(CORWILL, FRED)(CORWILL, RAPHAEL)(CORWILL, WILFRED)(TORNBULL, BARNEY)(TORNBULL, BETTY)(TORNBULL, BJON)\"**\n",
    "\n",
    "\n",
    "**It can happen that in two distinct families with the same family name two people have the same first name too.****"
   ],
   "attachments":{
    
   },
   "metadata":{
    "datalore":{
     "node_id":"e88FKheRlHjyC0c4PXY5UZ",
     "type":"MD",
     "hide_input_from_viewers":false,
     "hide_output_from_viewers":false,
     "report_properties":{
      "y":75
     }
    }
   }
  },
  {
   "cell_type":"code",
   "source":[
    "def sorted_names(names):\n",
    "    names = names.upper()\n",
    "    names = names.split(sep=';')\n",
    "    names = [name.split(sep=':') for name in names]\n",
    "    names.sort(key=lambda name: (name[1], name[0]))\n",
    "    return ''.join([f'({name[1]}, {name[0]})' for name in names])\n",
    "\n",
    "\n",
    "s = \"Fred:Corwill;Wilfred:Corwill;Barney:TornBull;Betty:Tornbull;Bjon:Tornbull;Raphael:Corwill;Alfred:Corwill\"\n",
    "print(sorted_names(s))"
   ],
   "execution_count":151,
   "outputs":[
    {
     "name":"stdout",
     "text":[
      "(CORWILL, ALFRED)(CORWILL, FRED)(CORWILL, RAPHAEL)(CORWILL, WILFRED)(TORNBULL, BARNEY)(TORNBULL, BETTY)(TORNBULL, BJON)\n"
     ],
     "output_type":"stream"
    }
   ],
   "metadata":{
    "datalore":{
     "node_id":"GiwJF68hSMy4B8IyGLHEXD",
     "type":"CODE",
     "hide_input_from_viewers":false,
     "hide_output_from_viewers":false,
     "report_properties":{
      "y":88
     }
    }
   }
  },
  {
   "cell_type":"markdown",
   "source":[
    "# Extra tasks"
   ],
   "attachments":{
    
   },
   "metadata":{
    "datalore":{
     "node_id":"6xJaHT9RzEzrtHtqzbCKXo",
     "type":"MD",
     "hide_input_from_viewers":false,
     "hide_output_from_viewers":false,
     "report_properties":{
      "y":91
     }
    }
   }
  },
  {
   "cell_type":"markdown",
   "source":[
    "## Task 1\n",
    "**Create a function that takes a positive integer and returns the next bigger number that can be formed by rearranging its digits.**\n",
    "\n",
    "**Examples:**\n",
    "- **nextBigger(num: 12)    \/\/ returns 21**\n",
    "- **nextBigger(num : 513)  \/\/  returns 531** \n",
    "- **nextBigger(num : 2017  \/\/  returns 2071**\n",
    "\n",
    "**If the digits can't be rearranged to form a bigger number, return -1**\n",
    "- **9  =>  -1**\n",
    "- **111 =>  -1**\n",
    "- **531 =>  -1**"
   ],
   "attachments":{
    
   },
   "metadata":{
    "datalore":{
     "node_id":"7KwkSraWCtOqZcPBIDWZka",
     "type":"MD",
     "hide_input_from_viewers":false,
     "hide_output_from_viewers":false,
     "report_properties":{
      "y":94
     }
    }
   }
  },
  {
   "cell_type":"code",
   "source":[
    "def nextBigger(num: int) -> int:\n",
    "    digits = list(str(num))\n",
    "    \n",
    "    # Find the index of the rightmost digit that is smaller than the digit to its right\n",
    "    i = len(digits) - 2\n",
    "    while i >= 0 and digits[i] >= digits[i+1]:\n",
    "        i -= 1\n",
    "    \n",
    "    # If all digits are in descending order, there is no bigger number\n",
    "    if i < 0:\n",
    "        return -1\n",
    "    \n",
    "    # Find the index of the smallest digit to the right of i that is greater than digits[i]\n",
    "    j = len(digits) - 1\n",
    "    while j > i and digits[j] <= digits[i]:\n",
    "        j -= 1\n",
    "    \n",
    "    digits[i], digits[j] = digits[j], digits[i]\n",
    "    digits[i+1:] = reversed(digits[i+1:])\n",
    "    \n",
    "    return int(''.join(digits))\n",
    "\n",
    "\n",
    "print(nextBigger(12))\n",
    "print(nextBigger(513))\n",
    "print(nextBigger(2017))\n",
    "print(nextBigger(9))\n",
    "print(nextBigger(111))\n",
    "print(nextBigger(531))"
   ],
   "execution_count":89,
   "outputs":[
    {
     "name":"stdout",
     "text":[
      "21\n",
      "531\n",
      "2071\n",
      "-1\n",
      "-1\n",
      "-1\n"
     ],
     "output_type":"stream"
    }
   ],
   "metadata":{
    "datalore":{
     "node_id":"MQS1DhOadhVrrqbj9ePQSp",
     "type":"CODE",
     "hide_input_from_viewers":false,
     "hide_output_from_viewers":false,
     "report_properties":{
      "y":97
     }
    }
   }
  },
  {
   "cell_type":"markdown",
   "source":[
    "## Task 2\n",
    "\n",
    "**Take the following IPv4 address: 128.32.10.1**\n",
    "\n",
    "**This address has 4 octets where each octet is a single byte (or 8 bits).**\n",
    "- **1st octet 128 has the binary representation: 10000000**\n",
    "- **2nd octet 32 has the binary representation: 00100000**\n",
    "- **3rd octet 10 has the binary representation: 00001010**\n",
    "- **4th octet 1 has the binary representation: 00000001**\n",
    "\n",
    "**So 128.32.10.1 == 10000000.00100000.00001010.00000001**\n",
    "\n",
    "**Because the above IP address has 32 bits, we can represent it as the unsigned 32 bit number: 2149583361**\n",
    "\n",
    "**Complete the function that takes an unsigned 32 bit number and returns a string representation of its IPv4 address.**\n",
    "\n",
    "**Examples:**\n",
    "- **2149583361  =>  \"128.32.10.1\"**\n",
    "- **32 =>   \"0.0.0.32\"**\n",
    "- **0  =>   \"0.0.0.0\"**"
   ],
   "attachments":{
    
   },
   "metadata":{
    "datalore":{
     "node_id":"abhTbRVJtAXwLjOKKwt1Ui",
     "type":"MD",
     "hide_input_from_viewers":false,
     "hide_output_from_viewers":false,
     "report_properties":{
      "y":100
     }
    }
   }
  },
  {
   "cell_type":"code",
   "source":[
    "def IPv4(num):\n",
    "    octet1 = (num >> 24) & 255\n",
    "    octet2 = (num >> 16) & 255\n",
    "    octet3 = (num >> 8) & 255\n",
    "    octet4 = num & 255\n",
    "    return f\"{octet1}.{octet2}.{octet3}.{octet4}\"\n",
    "\n",
    "\n",
    "print(IPv4(2149583361))\n",
    "print(IPv4(32))\n",
    "print(IPv4(0))"
   ],
   "execution_count":110,
   "outputs":[
    {
     "name":"stdout",
     "text":[
      "128.32.10.1\n",
      "0.0.0.32\n",
      "0.0.0.0\n"
     ],
     "output_type":"stream"
    }
   ],
   "metadata":{
    "datalore":{
     "node_id":"4rs6DUK9unNDrf2RPOUtE6",
     "type":"CODE",
     "hide_input_from_viewers":false,
     "hide_output_from_viewers":false,
     "report_properties":{
      "y":103
     }
    }
   }
  }
 ],
 "metadata":{
  "kernelspec":{
   "display_name":"Python",
   "language":"python",
   "name":"python"
  },
  "datalore":{
   "version":1,
   "computation_mode":"JUPYTER",
   "package_manager":"pip",
   "base_environment":"default",
   "packages":[
    
   ]
  }
 },
 "nbformat":4,
 "nbformat_minor":4
}